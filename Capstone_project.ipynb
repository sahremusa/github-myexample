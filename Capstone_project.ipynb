{
 "cells": [
  {
   "cell_type": "markdown",
   "metadata": {},
   "source": [
    "INTRODUCTION"
   ]
  },
  {
   "cell_type": "markdown",
   "metadata": {},
   "source": [
    "The Hague City in the Netherlands(South Holland) is the target city of this project. The project is about assessing the best location for food restuarant within the eight urban districts (Boroughs) comprising the Hague City - South Holland. The codes for this analyis on Scheveningen district was used to analyze all three districts investigated in this project."
   ]
  },
  {
   "cell_type": "markdown",
   "metadata": {},
   "source": [
    "BACKGROUND"
   ]
  },
  {
   "cell_type": "markdown",
   "metadata": {},
   "source": [
    "A group of immigrants arrived from Asia and South America to seek asylum in the Netherlands and have been given a stay in the Hague City by the government of Netherlands and City Council of the Hague. These asylum seekers have made it known to the authorities that they will be better integrated into the Dutch society if they are provided opportunity to start and engage in food restuarant business, which they claimed to be their profession. However the Hague City, like other parts of the Netherlands, is already a scene of diverse type of restuarants everywhere.\n",
    "The City Council contracted me as a Data Scientist and Analyst to investigate the best possible locations for food restuarants, and provide them recomendations on possible locations in a presentation, the result of which will be used to determine whether or not council will provide financial assistance to these immigrants in order to start their food restuarant businesses of interest."
   ]
  },
  {
   "cell_type": "markdown",
   "metadata": {},
   "source": [
    "DESCRIPTION OF THE DATA AND HOW IT WILL BE USED TO SOLVE THE PROBLEM"
   ]
  },
  {
   "cell_type": "markdown",
   "metadata": {},
   "source": [
    "The Hague City is comprised of 8 districts, equivalent to Boroughs, and a total of 38 neighborhoods. The required dataset, in order to segment the neighborhoods and explore them, will consist of the 8 boroughs and the neighborhoods that exist in each of the boroughs(districts), and as well as the latitude and longitude coordinates of each neighborhood. This dataset is available on the following links: https://www.postcode.nl/services/adresdata/api for a yearly chargeable fee of 40 euro for 10,000 requests per year(exclusive value added tax). It is also available on: https://api.postcode.eu/nl/v1/addresses/latlon/{latitude}/{longitude}.\n",
    "Alternatively, also available on Foursquare, which I checked and seems to be so by indicating location name in a search box. Whichever means is used, the the dataset will be named haguecity_data.\n",
    "When this dataset is downloaded, it will be first opened using with open() function as a jason data and then explored. A list of the neighboods returned will be defined as a new variable that includes this data, the name of variable will be hgcneighborhoods_data, to extract the features. This will be followed by a transformation of the data into a pandas dataframe, a task essentially transforming this data of expected nested Python dictionaries into pandas dataframe. Fisrtly, dataframe columns will be defined, and then initialize the dataframe. This dataframe will be filled one row at a time by looping through the data.\n",
    "A geopy library will be used to get the latitude and longitude values of the Hague City following the normal procedure learned in the lessons. It is deemed necessary to create a map of the Hague City with the neighborhoods superimposed on top. However, I am skeptical about the use of folium to do this because it has never worked throughout the lab exercises provided using folium and creating choropleth maps. That's my serious concern, and was observed that other students experienced the same when I was grading peer review assignments very recently, especially for one of the best students with very strong python programming background.\n",
    "The foursquare API will be used to explore the neighborhoods and segment them for the top 100 venues, following procedures already learned in the courses. The get_category_type function will be used to extract the categories of the venues. The json will be cleaned and structured into a pandas dataframe.\n",
    "The next step will be to explore neighborhoods in the Hague City by first creating a function that will repeat the process of exploration for all neighborhoods in the Hague City. A code will be written to run this function on each neighborhood and create a new dataframe called haguecity_venues.\n",
    "This will be the time to analyze each neighborhood, first using the onehot encoding to allow the use of k-means later for clustering. The new dataframe will be examined and rows be grouped by neighborhoods, and each neighborhood to be printed along with top 5 most common venues, and then put into a pandas dataframe by creating a function to sort venues in descending order. After creating the new dataframe, the top 10 venues will be displayed for each neighborhood.\n",
    "The neighborhoods will then be clustered by run k-means to create, say, 5 clusters. This will lead to creating a new dataframe that includes the clusters as well as the top 10 venues for each neighborhood, likely to be visualized if my experience with folium does not repeat itself.\n",
    "Finally, the clusters will be examined to determine the discriminating venue categories that distinguish each cluster. This will aid to assign a name to each cluster and for recommendation to the council during the presentation."
   ]
  },
  {
   "cell_type": "code",
   "execution_count": null,
   "metadata": {},
   "outputs": [],
   "source": [
    "#Download all the needed dependencies\n",
    "import numpy as np\n",
    "import pandas as pd #library for data analysis\n",
    "\n",
    "pd.set_option('display.max_columns', None)\n",
    "pd.set_option('display.max_rows', None)\n",
    "\n",
    "import json #library to handle JSON files\n",
    "\n",
    "#!conda install -c conda-forge geopy --yes\n",
    "#!conda install -c conda-forge geopy --yes\n",
    "from geopy.geocoders import Nominatim #converts an address into latitude and longitude values\n",
    "\n",
    "import requests #library to handle requests\n",
    "from pandas.io.json import json_normalize #transform JSON file into pandas dataframe\n",
    "\n",
    "#Matplotlib and associated plotting modules\n",
    "import matplotlib.cm as cm\n",
    "import matplotlib.colors as colors \n",
    "%matplotlib inline\n",
    "\n",
    "#Import k-means for clustering stage\n",
    "from sklearn.cluster import KMeans\n",
    "\n",
    "#conda install -c conda-forge folium=0.5.0 --yes\n",
    "#!conda install -c conda-forge folium=0.5.0 --yes \n",
    "import folium #map visualization librabry\n",
    "\n",
    "print('Libraries imported')"
   ]
  },
  {
   "cell_type": "code",
   "execution_count": null,
   "metadata": {},
   "outputs": [],
   "source": [
    "#Create the dataframe with data gathered from Dutch web site on the Hague City(thcty)\n",
    "thcty_data=pd.DataFrame({'Borough':['Hague Centrum', 'Hague Centrum', 'Hague Centrum', 'Hague Centrum', 'Hague Centrum', 'Hague Centrum', 'Escamp'\n",
    "                                    ,'Escamp','Escamp','Escamp','Haagse Hout', 'Haagse Hout', 'Haagse Hout', 'Haagse Hout', 'Haagse Hout', 'Haagse Hout'\n",
    "                                    ,'Laak','Laak','Laak','Leidschenveen-Ypenburg','Leidschenveen-Ypenburg','Loosduinen','Loosduinen','Loosduinen'\n",
    "                                    ,'Loosduinen','Scheveningen','Scheveningen','Scheveningen','Scheveningen','Scheveningen','Scheveningen','Scheveningen'\n",
    "                                    ,'Scheveningen','Segbroek','Segbroek','Segbroek','Segbroek','Segbroek'],\n",
    "      'Neighborhood':['Archipelbuurt-Willemspark','Zeeheldenkwartier','Kortenbos','Transvaalkwartier','Schildersbuurt','Stationsbuurt'\n",
    "                     ,'Rustenbuurt-Oostbroek','Wateringse Veld','Moerwijk','Bouwlust-Vrederust','Benoordenhout','Marlot','Haagse Rose','Mariahoeve'\n",
    "                      ,'Bezuidenhout','Beatrixkwartier','Binckhorst','Spoorwijk','Laakkwartier','Forepark','Hornwijk','Kijkduin-Ockenburg','Kraayenstein-De Uithof'\n",
    "                      ,'Bohemen','Waldeck','Oostduinen','Belgische Park','Westbroekpark','Van Stolkpark','Hof van Schreveningen','Statenkwartier'\n",
    "                      ,'Intnl Zone','Duindorp','Bornen & Bloemenbuurt','Regentessekwartier','Valkenboskwartier','Vruchtenbuurt','Vogelwijk'],\n",
    "      'Latitude':[52.09709, 52.0825203, 52.0770373, 52.0668307, 52.0684867, 52.07151, 52.0604259, 52.0271, 52.0478362, 52.037498, 52.0932446, 52.0991393\n",
    "                  ,52.0861,52.0936444,52.0840958,52.0803668,52.0676951,52.0535406,52.0561421,52.0701741,52.0468617,52.0666,52.0339228,52.0656615,52.0584695\n",
    "                 ,52.1155078, 52.1091988, 52.1039161, 52.0986338, 52.0927868, 52.0945228, 52.0595723, 52.0906178, 52.0728265, 52.0768491, 52.0714, 52.0681189\n",
    "                  , 52.0780333],\n",
    "      'Longitude':[4.3009372, 4.2995842, 4.3024605, 4.2911217, 4.3003207, 4.3163635, 4.2842477, 4.2897, 4.2892, 4.256879, 4.3223079, 4.3514929, 4.3109, 4.3592344\n",
    "                   ,4.3396654, 4.334579, 4.3400508, 4.3152625, 4.3209061, 4.3925933, 4.3565011, 4.2212, 4.2470762, 4.2316372, 4.2420443, 4.3035489\n",
    "                   ,4.2944283, 4.2936099, 4.2927918, 4.2619202, 4.2795905, 4.2218275, 4.2592868, 4.2538506, 4.283172, 4.2747, 4.2555854, 4.25177]},\n",
    "                      columns=['Borough', 'Neighborhood', 'Latitude', 'Longitude'])\n",
    "thcty_data"
   ]
  },
  {
   "cell_type": "code",
   "execution_count": null,
   "metadata": {},
   "outputs": [],
   "source": [
    "schev_data=thcty_data[thcty_data['Borough']=='Scheveningen'].reset_index(drop=True)\n",
    "schev_data"
   ]
  },
  {
   "cell_type": "markdown",
   "metadata": {},
   "source": [
    "USING geopy LIBRARY TO GET THE LATITUDE AND LONGITUDE COORDINATES OF SCHEVENINGEN"
   ]
  },
  {
   "cell_type": "code",
   "execution_count": null,
   "metadata": {},
   "outputs": [],
   "source": [
    "#Get the geographical coordinates of Hague centrum (hgcentrum)\n",
    "address='Scheveningen'\n",
    "geolocator=Nominatim(user_agent=\"schev_explorer\")\n",
    "location=geolocator.geocode(address)\n",
    "latitude=location.latitude\n",
    "longitude=location.longitude\n",
    "print('The geographical coordinate of Scheveningen are {},{}.'.format(latitude, longitude))"
   ]
  },
  {
   "cell_type": "markdown",
   "metadata": {},
   "source": [
    "CREATE A MAP OF SCHEVENINGEN WITH NEIGHBORHOODS SUPERIMPOSED ON TOP"
   ]
  },
  {
   "cell_type": "code",
   "execution_count": null,
   "metadata": {},
   "outputs": [],
   "source": [
    "#Create a map of the Hague Centrum (map_hgcentrum) using the latitude and longitude values returned above\n",
    "latitude=52.0789797\n",
    "longitude=4.3126423\n",
    "map_hgcentrum=folium.Map(location=[latitude, longitude], zoom_start=12)\n",
    "\n",
    "#Add markers to the map\n",
    "for lat,lng,borough,neighborhood in zip(hgcentrum_data['Latitude'], hgcentrum_data['Longitude'], hgcentrum_data['Borough'], hgcentrum_data['Neighborhood']):\n",
    "    label='{},{}'.format(neighborhood, borough)\n",
    "    label=folium.Popup(label, parse_html=True)\n",
    "    folium.CircleMarker([lat, lng],\n",
    "                       radius=5,\n",
    "                       popup=label,\n",
    "                       color='blue',\n",
    "                       fill_color='#3186cc',\n",
    "                       fill_opacity=0.7,\n",
    "                       parse_html=False).add_to(map_hgcentrum) \n",
    "map_hgcentrum   "
   ]
  },
  {
   "cell_type": "markdown",
   "metadata": {},
   "source": [
    "THE Foursquare API WILL NOW BE USED TO EXPLORE THE NEIGHBORHOODS AND SEGMENT THEM"
   ]
  },
  {
   "cell_type": "code",
   "execution_count": null,
   "metadata": {},
   "outputs": [],
   "source": [
    "#Define foursquare credentials and version\n",
    "CLIENT_ID='' # your foursquare ID\n",
    "CLIENT_SECRET='F2TKA1ICYOIE4IVYHTZFB2PMWG4AP02OH2VJHCUBD3CDFSH3' # your foursquare SECRET\n",
    "VERSION='20190314' # foursquare API version\n",
    "print('Your credentials:')\n",
    "print('CLIENT_ID:' +CLIENT_ID)\n",
    "print('CLIENT_SECRET:' +CLIENT_SECRET)"
   ]
  },
  {
   "cell_type": "markdown",
   "metadata": {},
   "source": [
    "EXPLORING THE FIRST NEIGHBORHOOD IN OUR DATAFRAME (schev_data)"
   ]
  },
  {
   "cell_type": "code",
   "execution_count": null,
   "metadata": {},
   "outputs": [],
   "source": [
    "#Get neighborhoods names\n",
    "schev_data.loc[0,'Neighborhood']"
   ]
  },
  {
   "cell_type": "code",
   "execution_count": null,
   "metadata": {},
   "outputs": [],
   "source": [
    "#Get the neighborhoods latitude and longitude values\n",
    "latitude=schev_data.loc[0,'Latitude'] # neighborhood's latitude value\n",
    "longitude=schev_data.loc[0,'Longitude'] # neighborhood's longitude value\n",
    "names=schev_data.loc[0,'Neighborhood'] # neighborhood's name\n",
    "print('Latitude and longitude values of {} are {},{}.'.format(names, latitude, longitude))"
   ]
  },
  {
   "cell_type": "markdown",
   "metadata": {},
   "source": [
    "GET THE TOP 100 VENUES THAT ARE IN SCHEVENINGEN WITHIN A RADIUS OF 500 METERS"
   ]
  },
  {
   "cell_type": "code",
   "execution_count": null,
   "metadata": {},
   "outputs": [],
   "source": [
    "#Create the GET request URL and name it url\n",
    "LIMIT=100\n",
    "radius=500\n",
    "url='https://api.foursquare.com/v2/venues/explore?&client_id={}&client_secret={}&v={}&ll={},{}&radius={}&limit={}'.format(\n",
    "CLIENT_ID,\n",
    "CLIENT_SECRET,\n",
    "VERSION,\n",
    "latitude,\n",
    "longitude,\n",
    "radius,\n",
    "LIMIT)\n",
    "url"
   ]
  },
  {
   "cell_type": "code",
   "execution_count": null,
   "metadata": {},
   "outputs": [],
   "source": [
    "#Send the GET request and examine the results\n",
    "results=requests.get(url).json()"
   ]
  },
  {
   "cell_type": "markdown",
   "metadata": {},
   "source": [
    "DEFINE THE get_category_type FUNCTION WHICH WILL ALLOW THE CLEANING AND STRUCTURING OF THE json RESULTS INTO A PANDAS DATAFRAME"
   ]
  },
  {
   "cell_type": "code",
   "execution_count": null,
   "metadata": {},
   "outputs": [],
   "source": [
    "#Create function that will extract the category of the venue\n",
    "def get_category_type(row):\n",
    "    try:\n",
    "        categories_list=row['categories']\n",
    "    except:\n",
    "        categories_list=row['venue.categories']\n",
    "    if len(categories_list)==0:\n",
    "        return None\n",
    "    else:\n",
    "        return categories_list[0]['name']"
   ]
  },
  {
   "cell_type": "markdown",
   "metadata": {},
   "source": [
    "NOW TO CLEAN THE json AND STRUCTURE IT INTO PANDAS DATAFRAME"
   ]
  },
  {
   "cell_type": "code",
   "execution_count": null,
   "metadata": {},
   "outputs": [],
   "source": [
    "venues=results['response']['groups'][0]['items']\n",
    "nearby_venues=json_normalize(venues) # flatten JSON\n",
    "\n",
    "#Filter columns\n",
    "filtered_columns=['venue.name', 'venue.categories', 'venue.location.lat', 'venue.location.lng']\n",
    "nearby_venues=nearby_venues.loc[:,filtered_columns]\n",
    "\n",
    "#Filter the category for each row\n",
    "nearby_venues['venue.categories']=nearby_venues.apply(get_category_type, axis=1)\n",
    "\n",
    "#Clean columns\n",
    "nearby_venues.columns=[col.split(\".\")[-1] for col in nearby_venues.columns]\n",
    "\n",
    "nearby_venues.head()"
   ]
  },
  {
   "cell_type": "code",
   "execution_count": null,
   "metadata": {},
   "outputs": [],
   "source": [
    "print('{} venues were returned by Foursquare.'.format(nearby_venues.shape[0]))"
   ]
  },
  {
   "cell_type": "markdown",
   "metadata": {},
   "source": [
    "EXPLORING NEIGHBORHOODS IN SCHEVENINGEN"
   ]
  },
  {
   "cell_type": "code",
   "execution_count": null,
   "metadata": {},
   "outputs": [],
   "source": [
    "#Create a function to repeat the same process to all neighborhoods in the Hague Centrum\n",
    "def getNearbyVenues(names, latitudes, longitudes, radius=500):\n",
    "    venues_list=[]\n",
    "    for name, lat, lng in zip(names, latitudes, longitudes):\n",
    "        #print(name)\n",
    "        #create the API request URL\n",
    "        url='https://api.foursquare.com/v2/venues/explore?&client_id={}&client_secret={}&v={}&ll={},{}&radius={}&limit={}'.format(\n",
    "        CLIENT_ID,\n",
    "        CLIENT_SECRET,\n",
    "        VERSION,\n",
    "        latitude,\n",
    "        longitude,\n",
    "        radius,\n",
    "        LIMIT)\n",
    "        url\n",
    "        \n",
    "        #Make the GET request\n",
    "        results=requests.get(url).json()[\"response\"][\"groups\"][0]['items']\n",
    "        #return only relevant information for each nearby venue\n",
    "        venues_list.append([(\n",
    "        name,\n",
    "        lat,\n",
    "        lng,\n",
    "        v['venue']['name'],\n",
    "        v['venue']['location']['lat'],\n",
    "        v['venue']['location']['lng'],\n",
    "        v['venue']['categories'][0]['name']) for v in results])\n",
    "        \n",
    "    nearby_venues=pd.DataFrame([item for venue_list in venues_list for item in venue_list])\n",
    "    nearby_venues.columns=['Neighborhood',\n",
    "                          'Neighborhood Latitude',\n",
    "                          'Neighborhood Longitude',\n",
    "                          'Venue',\n",
    "                          'Venue Latitude',\n",
    "                          'Venue Longitude',\n",
    "                          'Venue Category']\n",
    "    return(nearby_venues)"
   ]
  },
  {
   "cell_type": "markdown",
   "metadata": {},
   "source": [
    "CREATE DATAFRAME WHICH CONTAINS NEARBY VENUES FOR EACH NEIGHBORHOOD OR GROUP OF NEIGHBORHOODS IN SCHEVENINGEN"
   ]
  },
  {
   "cell_type": "code",
   "execution_count": null,
   "metadata": {},
   "outputs": [],
   "source": [
    "schev_venues=getNearbyVenues(names=schev_data['Neighborhood'],\n",
    "                          latitudes=schev_data['Latitude'],\n",
    "                          longitudes=schev_data['Longitude']\n",
    "                          )"
   ]
  },
  {
   "cell_type": "code",
   "execution_count": null,
   "metadata": {},
   "outputs": [],
   "source": [
    "#Check the size of the resulting dataframe\n",
    "print(schev_venues.shape)\n",
    "schev_venues.head()"
   ]
  },
  {
   "cell_type": "code",
   "execution_count": null,
   "metadata": {},
   "outputs": [],
   "source": [
    "#Check how many venues were returned for each neighborhood\n",
    "schev_venues.groupby('Neighborhood').count()"
   ]
  },
  {
   "cell_type": "code",
   "execution_count": null,
   "metadata": {},
   "outputs": [],
   "source": [
    "#Find out how many unique categories can be curated from all the returned venues\n",
    "print('There are {} uniques categories.'.format(len(schev_venues['Venue Category'].unique())))"
   ]
  },
  {
   "cell_type": "code",
   "execution_count": null,
   "metadata": {},
   "outputs": [],
   "source": [
    "#Check if do not have Venue Category as Neighborhood\n",
    "schev_venues[schev_venues['Venue Category']=='Neighborhood']"
   ]
  },
  {
   "cell_type": "code",
   "execution_count": null,
   "metadata": {},
   "outputs": [],
   "source": [
    "#That has to be fixed by changing slightly the name of that Venue Category\n",
    "schev_venues.loc[schev_venues['Venue Category']=='Neighborhood', 'Venue Category']='Neighborhoods'"
   ]
  },
  {
   "cell_type": "code",
   "execution_count": null,
   "metadata": {},
   "outputs": [],
   "source": [
    "#Check now to see\n",
    "schev_venues[schev_venues['Venue Category']=='Neighborhood']"
   ]
  },
  {
   "cell_type": "markdown",
   "metadata": {},
   "source": [
    "ANALYZE THE FIRST NEIGHBORHOOD-OoSTDUINEN"
   ]
  },
  {
   "cell_type": "code",
   "execution_count": null,
   "metadata": {},
   "outputs": [],
   "source": [
    "#onehot encoding\n",
    "schev_onehot_=pd.get_dummies(schev_venues[['Venue Category']], prefix=\"\", prefix_sep=\"\")\n",
    "\n",
    "#Merge the schev_venues and schev_onehot by using 'Neighborhood' column\n",
    "schev_onehot=pd.concat([schev_venues['Neighborhood'], schev_onehot_], axis=1)\n",
    "\n",
    "schev_onehot.head(10)"
   ]
  },
  {
   "cell_type": "code",
   "execution_count": null,
   "metadata": {},
   "outputs": [],
   "source": [
    "#Sanity check for finding any invalid value\n",
    "schev_onehot.isnull().values.any()"
   ]
  },
  {
   "cell_type": "code",
   "execution_count": null,
   "metadata": {},
   "outputs": [],
   "source": [
    "#Examine the new dataframe size\n",
    "schev_onehot.shape"
   ]
  },
  {
   "cell_type": "code",
   "execution_count": null,
   "metadata": {},
   "outputs": [],
   "source": [
    "#Group rows by neighborhood and by taking the mean of the frequencies of occurrence of each category\n",
    "schev_grouped=schev_onehot.groupby('Neighborhood').mean().reset_index()"
   ]
  },
  {
   "cell_type": "code",
   "execution_count": null,
   "metadata": {},
   "outputs": [],
   "source": [
    "#Check the new dataframe\n",
    "schev_grouped.head()"
   ]
  },
  {
   "cell_type": "code",
   "execution_count": null,
   "metadata": {},
   "outputs": [],
   "source": [
    "#Sanity check for finding any invalid value\n",
    "schev_grouped.isnull().values.any()"
   ]
  },
  {
   "cell_type": "markdown",
   "metadata": {},
   "source": [
    "CREATE THE NEW DATAFRAME AND DISPLAY THE TOP 10 VENUES FOR EACH NEIGHBORHOOD"
   ]
  },
  {
   "cell_type": "code",
   "execution_count": null,
   "metadata": {},
   "outputs": [],
   "source": [
    "#Fisrt, a function to sort the venues in descending order\n",
    "def return_most_common_venues(row, num_top_venues):\n",
    "    row_categories=row.iloc[1:]\n",
    "    row_categories_sorted=row_categories.sort_values(ascending=False)\n",
    "    \n",
    "    return row_categories_sorted.index.values[0:num_top_venues]"
   ]
  },
  {
   "cell_type": "code",
   "execution_count": null,
   "metadata": {},
   "outputs": [],
   "source": [
    "num_top_venues=2\n",
    "indicators=['st', 'nd', 'rd']\n",
    "\n",
    "#Create columns according to number of top venues\n",
    "columns=['Neighborhood']\n",
    "for ind in np.arange(num_top_venues):\n",
    "    try:\n",
    "        columns.append('{}{} Most Common Venue'.format(ind+1, indicators[ind]))\n",
    "    except:\n",
    "        columns.append('{}th Most Common Venue'.format(ind+1))\n",
    "        \n",
    "#Create a new dataframe\n",
    "schev_venues_sorted=pd.DataFrame(columns=columns)\n",
    "schev_venues_sorted['Neighborhood']=schev_grouped['Neighborhood']\n",
    "\n",
    "for ind in np.arange(schev_grouped.shape[0]):\n",
    "    schev_venues_sorted.iloc[ind,1:]= return_most_common_venues(schev_grouped.iloc[ind,:],\n",
    "                                                                          num_top_venues)\n",
    "schev_venues_sorted.head()    "
   ]
  },
  {
   "cell_type": "code",
   "execution_count": null,
   "metadata": {},
   "outputs": [],
   "source": [
    "#Sanity check for finding any invalid value\n",
    "schev_venues_sorted.isnull().values.any()"
   ]
  },
  {
   "cell_type": "code",
   "execution_count": null,
   "metadata": {},
   "outputs": [],
   "source": [
    "schev_venues_sorted['1st Most Common Venue'].count()"
   ]
  },
  {
   "cell_type": "markdown",
   "metadata": {},
   "source": [
    "CLUSTER NEIGHBORHOODS BY RUNNING k-means TO CLUSTER NEIGHBORHOODS INTO 4 CLUSTERS"
   ]
  },
  {
   "cell_type": "code",
   "execution_count": null,
   "metadata": {},
   "outputs": [],
   "source": [
    "#Set number of clusters\n",
    "kclusters=4\n",
    "\n",
    "schev_grouped_clustering=schev_grouped.drop('Neighborhood', 1)\n",
    "\n",
    "#Run k-means clustering\n",
    "kmeans=KMeans(n_clusters=kclusters, random_state=0).fit(schev_grouped_clustering)\n",
    "\n",
    "#Check cluster labels generated for each row in the dataframe\n",
    "kmeans.labels_[0:10]"
   ]
  },
  {
   "cell_type": "markdown",
   "metadata": {},
   "source": [
    "CREATE A NEW DATAFRAME THAT INCLUDES THE CLUSTER AS WELL AS THE TOP 10 VENUES FOR EACH NEIGHBORHOOD"
   ]
  },
  {
   "cell_type": "code",
   "execution_count": null,
   "metadata": {},
   "outputs": [],
   "source": [
    "#Add clustering labels\n",
    "schev_venues_sorted.insert(0, 'Cluster Labels', kmeans.labels_)\n",
    "\n",
    "schev_merged=schev_data\n",
    "\n",
    "#Merge schev_grouped with schev_data to add latitude and longitude for each neighborhood\n",
    "schev_merged=schev_merged.join(schev_venues_sorted.set_index('Neighborhood'), on=\"Neighborhood\")\n",
    "\n",
    "schev_merged.head(10) #check the last columns!"
   ]
  },
  {
   "cell_type": "markdown",
   "metadata": {},
   "source": [
    "FINALLY, VISUALIZE THE RESULTING CLUSTERS"
   ]
  },
  {
   "cell_type": "code",
   "execution_count": null,
   "metadata": {},
   "outputs": [],
   "source": []
  },
  {
   "cell_type": "markdown",
   "metadata": {},
   "source": [
    "EXAMINE CLUSTERS"
   ]
  },
  {
   "cell_type": "markdown",
   "metadata": {},
   "source": [
    "Now We Can Examine Each Cluster and Determine The Discriminating Venue Category That Distinguish Each Cluster. Based on The Defining Categories, We Can Then Assign a Name To Each Cluster"
   ]
  },
  {
   "cell_type": "code",
   "execution_count": null,
   "metadata": {},
   "outputs": [],
   "source": [
    "#Cluster 1\n",
    "schev_merged.loc[schev_merged['Cluster Labels'] ==0, schev_merged.columns[[2] +list(range(5, schev_merged.shape[1]))]]"
   ]
  },
  {
   "cell_type": "code",
   "execution_count": null,
   "metadata": {},
   "outputs": [],
   "source": [
    "#Cluster 2\n",
    "schev_merged.loc[schev_merged['Cluster Labels']==1, schev_merged.columns[[1] + list(range(5, schev_merged.shape[1]))]]"
   ]
  },
  {
   "cell_type": "code",
   "execution_count": null,
   "metadata": {},
   "outputs": [],
   "source": [
    "#Cluster 3\n",
    "schev_merged.loc[schev_merged['Cluster Labels']==2, schev_merged.columns[[1] + list(range(5, schev_merged.shape[1]))]]"
   ]
  },
  {
   "cell_type": "code",
   "execution_count": null,
   "metadata": {},
   "outputs": [],
   "source": [
    "#Cluster 4\n",
    "schev_merged.loc[schev_merged['Cluster Labels']==3, schev_merged.columns[[1] + list(range(5, schev_merged.shape[1]))]]"
   ]
  }
 ],
 "metadata": {
  "kernelspec": {
   "display_name": "Python 3",
   "language": "python",
   "name": "python3"
  },
  "language_info": {
   "codemirror_mode": {
    "name": "ipython",
    "version": 3
   },
   "file_extension": ".py",
   "mimetype": "text/x-python",
   "name": "python",
   "nbconvert_exporter": "python",
   "pygments_lexer": "ipython3",
   "version": "3.6.8"
  }
 },
 "nbformat": 4,
 "nbformat_minor": 2
}
