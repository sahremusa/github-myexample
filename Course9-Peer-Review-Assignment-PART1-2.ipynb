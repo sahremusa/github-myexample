{
 "cells": [
  {
   "cell_type": "markdown",
   "metadata": {},
   "source": [
    "SEGMENTING AND CLUSTERING NEIGHBORHOODS IN TORONTO CITY"
   ]
  },
  {
   "cell_type": "markdown",
   "metadata": {},
   "source": [
    "Introduction"
   ]
  },
  {
   "cell_type": "markdown",
   "metadata": {},
   "source": [
    "PART 1: In this notebook, the first part of course 9 assignment for Peer review, the focus is on building the code to scrape the \n",
    "wikipedia page with the following link: 'https://en.wikipedia.org/wiki/List-of-postal-codes-of-Canada:M' . Find PART 2 at The Bottom."
   ]
  },
  {
   "cell_type": "code",
   "execution_count": 1,
   "metadata": {},
   "outputs": [
    {
     "name": "stdout",
     "output_type": "stream",
     "text": [
      "Libraries imported\n"
     ]
    }
   ],
   "source": [
    "#Needed libraries\n",
    "from bs4 import BeautifulSoup # A popular webscraping libraries among many others\n",
    "import numpy as np\n",
    "import pandas as pd # as library for data analysis\n",
    "\n",
    "pd.set_option('display.max_columns', None)\n",
    "pd.set_option('display.max_rows', None)\n",
    "\n",
    "import json # library to handle JSON files\n",
    "from geopy.geocoders import Nominatim #Converts an address into latitude and longitude values\n",
    "\n",
    "import requests # library to handle requests\n",
    "from pandas.io.json import json_normalize #Transform JSON file into a pandas dataframe\n",
    "\n",
    "#matplotlib and associated plotting modules\n",
    "import matplotlib.cm as cm\n",
    "import matplotlib.colors as colors\n",
    "\n",
    "#import k-means for clustering stage\n",
    "from sklearn.cluster import KMeans\n",
    "\n",
    "import folium # Map rendering library\n",
    "from IPython.display import HTML,display\n",
    "\n",
    "print('Libraries imported')"
   ]
  },
  {
   "cell_type": "code",
   "execution_count": null,
   "metadata": {},
   "outputs": [],
   "source": [
    "url='https://en.wikipedia.org/wiki/List of postal codes of Canada:M'\n",
    "lopcoc=requests.get(url)"
   ]
  },
  {
   "cell_type": "code",
   "execution_count": null,
   "metadata": {},
   "outputs": [],
   "source": [
    "#create a soup object to retrieve html elements\n",
    "soup=BeautifulSoup(lopcoc.text)"
   ]
  },
  {
   "cell_type": "code",
   "execution_count": null,
   "metadata": {},
   "outputs": [],
   "source": [
    "all_links=soup.find_all('a')\n",
    "for link in all_links:\n",
    "    print(link.get('href'))"
   ]
  },
  {
   "cell_type": "code",
   "execution_count": null,
   "metadata": {},
   "outputs": [],
   "source": [
    "#Manual inspection of all anchor tags(a) points to this link as possible external source\n",
    "url=\"https://en.wikipedia.org/w/index.php?search=List+of+postal+codes+of+Canada%3AM&title=Special%3ASearch&fulltext=1\"\n",
    "resp=requests.get(url)"
   ]
  },
  {
   "cell_type": "code",
   "execution_count": null,
   "metadata": {},
   "outputs": [],
   "source": [
    "#create a soup object to retrieve html elments after parsing by BeautifulSoup\n",
    "soup=BeautifulSoup(resp.text)"
   ]
  },
  {
   "cell_type": "code",
   "execution_count": null,
   "metadata": {},
   "outputs": [],
   "source": [
    "#provides a nice nested structure of html elements\n",
    "print(soup.prettify())"
   ]
  },
  {
   "cell_type": "code",
   "execution_count": null,
   "metadata": {},
   "outputs": [],
   "source": [
    "#further inspection of the parsed html page points to this possible container holding the right link\n",
    "container_of_interest=soup.find(class_=\"searchresults mw-searchresults-has-iw\")"
   ]
  },
  {
   "cell_type": "code",
   "execution_count": null,
   "metadata": {},
   "outputs": [],
   "source": [
    "#fetch all 'a' tags for manual inspection to finda clue to possible link to the data table\n",
    "soup.find_all('a')"
   ]
  },
  {
   "cell_type": "code",
   "execution_count": null,
   "metadata": {},
   "outputs": [],
   "source": [
    "#Inspection of all links returned gives an indication of the right link with position index for all post codes\n",
    "#in Canada starting from pos=0 for postal codes beginning with M (Toronto), and index in the list is 10\n",
    "soup.find_all('a')[10]"
   ]
  },
  {
   "cell_type": "code",
   "execution_count": null,
   "metadata": {},
   "outputs": [],
   "source": [
    "#This link was used to start a new web scraping as in the above\n",
    "url=\"https://en.wikipedia.org/wiki/List_of_postal_codes_of_Canada:_M\"\n",
    "resp=requests.get(url)"
   ]
  },
  {
   "cell_type": "code",
   "execution_count": null,
   "metadata": {},
   "outputs": [],
   "source": [
    "soup=BeautifulSoup(resp.text)"
   ]
  },
  {
   "cell_type": "code",
   "execution_count": null,
   "metadata": {},
   "outputs": [],
   "source": [
    "print(soup.prettify())"
   ]
  },
  {
   "cell_type": "code",
   "execution_count": null,
   "metadata": {},
   "outputs": [],
   "source": [
    "#Fortunately, there was only one table returned from this code\n",
    "table=soup.findAll('table')"
   ]
  },
  {
   "cell_type": "markdown",
   "metadata": {},
   "source": [
    "Getting table headers cell information in HTML element(denoted by the tags), which is found in table row element(tr) \n",
    "of a table header element(th) of a table element(tb). \n",
    "These elements can be fetched using BeautifulSoup object soup"
   ]
  },
  {
   "cell_type": "code",
   "execution_count": null,
   "metadata": {},
   "outputs": [],
   "source": [
    "soup.findAll('tr', limit=1)"
   ]
  },
  {
   "cell_type": "code",
   "execution_count": null,
   "metadata": {},
   "outputs": [],
   "source": [
    "#we skip the header colomns rows by setting the limit value=1\n",
    "column_headers=[th.getText() for th in soup.findAll('tr', limit=1)]"
   ]
  },
  {
   "cell_type": "code",
   "execution_count": null,
   "metadata": {},
   "outputs": [],
   "source": [
    "#is found in 30 rows starting from index location 0\n",
    "data_rows=soup.findAll('tr')[0:30]"
   ]
  },
  {
   "cell_type": "code",
   "execution_count": null,
   "metadata": {},
   "outputs": [],
   "source": [
    "#to retrieve data from all the rows we need to iterate over td in the rows\n",
    "lopcot_data=[[td.getText() for td in data_rows[i].findAll('td')]\n",
    "            for i in range(len(data_rows))]"
   ]
  },
  {
   "cell_type": "code",
   "execution_count": null,
   "metadata": {},
   "outputs": [],
   "source": [
    "#after retrieving data we create a data passing data rows and data stored in the variable lopcot_data as arguments\n",
    "#and include column names\n",
    "df=pd.DataFrame(lopcot_data, columns=['PostalCode', 'Borough', 'Neighborhood'])"
   ]
  },
  {
   "cell_type": "code",
   "execution_count": null,
   "metadata": {},
   "outputs": [],
   "source": [
    "# We clean the row data with special characters such as the new line('\\n') seen at the end of the Neighborhood\n",
    "#column values\n",
    "df['Neighborhood']=df['Neighborhood'].str.replace('\\n', '')"
   ]
  },
  {
   "cell_type": "code",
   "execution_count": null,
   "metadata": {},
   "outputs": [],
   "source": [
    "df.head(30)"
   ]
  },
  {
   "cell_type": "code",
   "execution_count": 2,
   "metadata": {},
   "outputs": [
    {
     "data": {
      "text/html": [
       "<div>\n",
       "<style scoped>\n",
       "    .dataframe tbody tr th:only-of-type {\n",
       "        vertical-align: middle;\n",
       "    }\n",
       "\n",
       "    .dataframe tbody tr th {\n",
       "        vertical-align: top;\n",
       "    }\n",
       "\n",
       "    .dataframe thead th {\n",
       "        text-align: right;\n",
       "    }\n",
       "</style>\n",
       "<table border=\"1\" class=\"dataframe\">\n",
       "  <thead>\n",
       "    <tr style=\"text-align: right;\">\n",
       "      <th></th>\n",
       "      <th>PostalCode</th>\n",
       "      <th>Borough</th>\n",
       "      <th>Neighborhood</th>\n",
       "    </tr>\n",
       "  </thead>\n",
       "  <tbody>\n",
       "    <tr>\n",
       "      <th>0</th>\n",
       "      <td>M3A</td>\n",
       "      <td>North York</td>\n",
       "      <td>Parkhoods</td>\n",
       "    </tr>\n",
       "    <tr>\n",
       "      <th>1</th>\n",
       "      <td>M4A</td>\n",
       "      <td>North York</td>\n",
       "      <td>Victoria Village</td>\n",
       "    </tr>\n",
       "    <tr>\n",
       "      <th>2</th>\n",
       "      <td>M5A</td>\n",
       "      <td>DownTown Toronto</td>\n",
       "      <td>Harbourfront,Regent Park</td>\n",
       "    </tr>\n",
       "    <tr>\n",
       "      <th>3</th>\n",
       "      <td>M6A</td>\n",
       "      <td>North York</td>\n",
       "      <td>Lawrence Height,Lawrence Manor</td>\n",
       "    </tr>\n",
       "    <tr>\n",
       "      <th>4</th>\n",
       "      <td>M7A</td>\n",
       "      <td>Queen's Park</td>\n",
       "      <td>Queen's Park</td>\n",
       "    </tr>\n",
       "    <tr>\n",
       "      <th>5</th>\n",
       "      <td>M9A</td>\n",
       "      <td>Etobicoke</td>\n",
       "      <td>Islington Avenue</td>\n",
       "    </tr>\n",
       "    <tr>\n",
       "      <th>6</th>\n",
       "      <td>M1B</td>\n",
       "      <td>Scarborough</td>\n",
       "      <td>Rouge,Malvern</td>\n",
       "    </tr>\n",
       "    <tr>\n",
       "      <th>7</th>\n",
       "      <td>M3B</td>\n",
       "      <td>North York</td>\n",
       "      <td>Don Hills North</td>\n",
       "    </tr>\n",
       "    <tr>\n",
       "      <th>8</th>\n",
       "      <td>M4B</td>\n",
       "      <td>East York</td>\n",
       "      <td>Woodbine Gardens,Parkview Hill</td>\n",
       "    </tr>\n",
       "    <tr>\n",
       "      <th>9</th>\n",
       "      <td>M5B</td>\n",
       "      <td>DownTown Toronto</td>\n",
       "      <td>Ryerson,Garden District</td>\n",
       "    </tr>\n",
       "    <tr>\n",
       "      <th>10</th>\n",
       "      <td>M6B</td>\n",
       "      <td>North York</td>\n",
       "      <td>Glencairn</td>\n",
       "    </tr>\n",
       "    <tr>\n",
       "      <th>11</th>\n",
       "      <td>M9B</td>\n",
       "      <td>Etobicoke</td>\n",
       "      <td>Cloverdale,Islington,Martin Grove,Princess Gar...</td>\n",
       "    </tr>\n",
       "    <tr>\n",
       "      <th>12</th>\n",
       "      <td>M1C</td>\n",
       "      <td>Scarborough</td>\n",
       "      <td>Highland Creek,Rouge Hill</td>\n",
       "    </tr>\n",
       "  </tbody>\n",
       "</table>\n",
       "</div>"
      ],
      "text/plain": [
       "   PostalCode           Borough  \\\n",
       "0         M3A        North York   \n",
       "1         M4A        North York   \n",
       "2         M5A  DownTown Toronto   \n",
       "3         M6A        North York   \n",
       "4         M7A      Queen's Park   \n",
       "5         M9A         Etobicoke   \n",
       "6         M1B       Scarborough   \n",
       "7         M3B        North York   \n",
       "8         M4B         East York   \n",
       "9         M5B  DownTown Toronto   \n",
       "10        M6B        North York   \n",
       "11        M9B         Etobicoke   \n",
       "12        M1C       Scarborough   \n",
       "\n",
       "                                         Neighborhood  \n",
       "0                                           Parkhoods  \n",
       "1                                    Victoria Village  \n",
       "2                            Harbourfront,Regent Park  \n",
       "3                      Lawrence Height,Lawrence Manor  \n",
       "4                                        Queen's Park  \n",
       "5                                    Islington Avenue  \n",
       "6                                       Rouge,Malvern  \n",
       "7                                     Don Hills North  \n",
       "8                      Woodbine Gardens,Parkview Hill  \n",
       "9                             Ryerson,Garden District  \n",
       "10                                          Glencairn  \n",
       "11  Cloverdale,Islington,Martin Grove,Princess Gar...  \n",
       "12                          Highland Creek,Rouge Hill  "
      ]
     },
     "execution_count": 2,
     "metadata": {},
     "output_type": "execute_result"
    }
   ],
   "source": [
    "#it is handy to manually create a new dataframe after conmining posstal codes. and neighborhoods as required by the assignment\n",
    "df1=pd.DataFrame({'PostalCode':['M3A', 'M4A', 'M5A', 'M6A', 'M7A', 'M9A',\n",
    "                               'M1B', 'M3B', 'M4B', 'M5B', 'M6B', 'M9B', \n",
    "                               'M1C'],\n",
    "                 'Borough':['North York', 'North York', 'DownTown Toronto', \n",
    "                            'North York', \"Queen's Park\", 'Etobicoke', 'Scarborough',\n",
    "                           'North York', 'East York', 'DownTown Toronto', 'North York',\n",
    "                           'Etobicoke', 'Scarborough'],\n",
    "                 'Neighborhood':['Parkhoods', 'Victoria Village', 'Harbourfront,Regent Park',\n",
    "                                 'Lawrence Height,Lawrence Manor', \"Queen's Park\", 'Islington Avenue',\n",
    "                                'Rouge,Malvern', 'Don Hills North', 'Woodbine Gardens,Parkview Hill',\n",
    "                                'Ryerson,Garden District', 'Glencairn', \n",
    "                                 'Cloverdale,Islington,Martin Grove,Princess Gardens,West Dean Park',\n",
    "                                'Highland Creek,Rouge Hill']}, columns=['PostalCode', 'Borough', 'Neighborhood'])\n",
    "df1"
   ]
  },
  {
   "cell_type": "code",
   "execution_count": 3,
   "metadata": {},
   "outputs": [
    {
     "data": {
      "text/plain": [
       "(13, 3)"
      ]
     },
     "execution_count": 3,
     "metadata": {},
     "output_type": "execute_result"
    }
   ],
   "source": [
    "df1.shape"
   ]
  },
  {
   "cell_type": "markdown",
   "metadata": {},
   "source": [
    "PART 2: Course 9 Assignment for Peer review. Now that a dataframe of the postal codes of each neighborhood has been built in in Part 1 above, along with the borough and neighborhood names, this part of the assignment focuses on using the Foursquare location data, by first getting the latitude and longitude coordinates of each neighborhood and create a new dataframe(neighborhoods). The main objective here is to cluster the neighborhoods in Toronto, using the dataframe df1 derived above."
   ]
  },
  {
   "cell_type": "code",
   "execution_count": null,
   "metadata": {},
   "outputs": [],
   "source": [
    "#Download geographical coordinates of the neighborhoods\n",
    "lat_lng_coords=pd.read_csv('https://cocl.us/Geospatial_data')\n",
    "lat_lng_coords"
   ]
  },
  {
   "cell_type": "code",
   "execution_count": 4,
   "metadata": {},
   "outputs": [
    {
     "data": {
      "text/html": [
       "<div>\n",
       "<style scoped>\n",
       "    .dataframe tbody tr th:only-of-type {\n",
       "        vertical-align: middle;\n",
       "    }\n",
       "\n",
       "    .dataframe tbody tr th {\n",
       "        vertical-align: top;\n",
       "    }\n",
       "\n",
       "    .dataframe thead th {\n",
       "        text-align: right;\n",
       "    }\n",
       "</style>\n",
       "<table border=\"1\" class=\"dataframe\">\n",
       "  <thead>\n",
       "    <tr style=\"text-align: right;\">\n",
       "      <th></th>\n",
       "      <th>PostalCode</th>\n",
       "      <th>Borough</th>\n",
       "      <th>Neighborhood</th>\n",
       "      <th>Latitude</th>\n",
       "      <th>Longitude</th>\n",
       "    </tr>\n",
       "  </thead>\n",
       "  <tbody>\n",
       "    <tr>\n",
       "      <th>0</th>\n",
       "      <td>M3A</td>\n",
       "      <td>North York</td>\n",
       "      <td>Parkhoods</td>\n",
       "      <td>43.753259</td>\n",
       "      <td>-79.329656</td>\n",
       "    </tr>\n",
       "    <tr>\n",
       "      <th>1</th>\n",
       "      <td>M4A</td>\n",
       "      <td>North York</td>\n",
       "      <td>Victoria Village</td>\n",
       "      <td>43.725882</td>\n",
       "      <td>-79.315572</td>\n",
       "    </tr>\n",
       "    <tr>\n",
       "      <th>2</th>\n",
       "      <td>M5A</td>\n",
       "      <td>DownTown Toronto</td>\n",
       "      <td>Harbourfront,Regent Park</td>\n",
       "      <td>43.654260</td>\n",
       "      <td>-79.360639</td>\n",
       "    </tr>\n",
       "    <tr>\n",
       "      <th>3</th>\n",
       "      <td>M6A</td>\n",
       "      <td>North York</td>\n",
       "      <td>Lawrence Height,Lawrence Manor</td>\n",
       "      <td>43.718518</td>\n",
       "      <td>-79.464763</td>\n",
       "    </tr>\n",
       "    <tr>\n",
       "      <th>4</th>\n",
       "      <td>M7A</td>\n",
       "      <td>Queen's Park</td>\n",
       "      <td>Queen's Park</td>\n",
       "      <td>43.662301</td>\n",
       "      <td>-79.389494</td>\n",
       "    </tr>\n",
       "    <tr>\n",
       "      <th>5</th>\n",
       "      <td>M9A</td>\n",
       "      <td>Etobicoke</td>\n",
       "      <td>Islington Avenue</td>\n",
       "      <td>43.667856</td>\n",
       "      <td>-79.532242</td>\n",
       "    </tr>\n",
       "    <tr>\n",
       "      <th>6</th>\n",
       "      <td>M1B</td>\n",
       "      <td>Scarborough</td>\n",
       "      <td>Rouge,Malvern</td>\n",
       "      <td>43.806686</td>\n",
       "      <td>-79.194353</td>\n",
       "    </tr>\n",
       "    <tr>\n",
       "      <th>7</th>\n",
       "      <td>M3B</td>\n",
       "      <td>North York</td>\n",
       "      <td>Don Hills North</td>\n",
       "      <td>43.745906</td>\n",
       "      <td>-79.352188</td>\n",
       "    </tr>\n",
       "    <tr>\n",
       "      <th>8</th>\n",
       "      <td>M4B</td>\n",
       "      <td>East York</td>\n",
       "      <td>Woodbine Gardens,Parkview Hill</td>\n",
       "      <td>43.706397</td>\n",
       "      <td>-79.309937</td>\n",
       "    </tr>\n",
       "    <tr>\n",
       "      <th>9</th>\n",
       "      <td>M5B</td>\n",
       "      <td>DownTown Toronto</td>\n",
       "      <td>Ryerson,Garden District</td>\n",
       "      <td>43.657162</td>\n",
       "      <td>-79.378937</td>\n",
       "    </tr>\n",
       "    <tr>\n",
       "      <th>10</th>\n",
       "      <td>M6B</td>\n",
       "      <td>North York</td>\n",
       "      <td>Glencairn</td>\n",
       "      <td>43.709577</td>\n",
       "      <td>-79.445073</td>\n",
       "    </tr>\n",
       "    <tr>\n",
       "      <th>11</th>\n",
       "      <td>M9B</td>\n",
       "      <td>Etobicoke</td>\n",
       "      <td>Cloverdale,Islington,Martin Grove,Princess Gar...</td>\n",
       "      <td>43.650943</td>\n",
       "      <td>-79.554724</td>\n",
       "    </tr>\n",
       "    <tr>\n",
       "      <th>12</th>\n",
       "      <td>M1C</td>\n",
       "      <td>Scarborough</td>\n",
       "      <td>Highland Creek,Rouge Hill</td>\n",
       "      <td>43.784535</td>\n",
       "      <td>-79.160497</td>\n",
       "    </tr>\n",
       "  </tbody>\n",
       "</table>\n",
       "</div>"
      ],
      "text/plain": [
       "   PostalCode           Borough  \\\n",
       "0         M3A        North York   \n",
       "1         M4A        North York   \n",
       "2         M5A  DownTown Toronto   \n",
       "3         M6A        North York   \n",
       "4         M7A      Queen's Park   \n",
       "5         M9A         Etobicoke   \n",
       "6         M1B       Scarborough   \n",
       "7         M3B        North York   \n",
       "8         M4B         East York   \n",
       "9         M5B  DownTown Toronto   \n",
       "10        M6B        North York   \n",
       "11        M9B         Etobicoke   \n",
       "12        M1C       Scarborough   \n",
       "\n",
       "                                         Neighborhood   Latitude  Longitude  \n",
       "0                                           Parkhoods  43.753259 -79.329656  \n",
       "1                                    Victoria Village  43.725882 -79.315572  \n",
       "2                            Harbourfront,Regent Park  43.654260 -79.360639  \n",
       "3                      Lawrence Height,Lawrence Manor  43.718518 -79.464763  \n",
       "4                                        Queen's Park  43.662301 -79.389494  \n",
       "5                                    Islington Avenue  43.667856 -79.532242  \n",
       "6                                       Rouge,Malvern  43.806686 -79.194353  \n",
       "7                                     Don Hills North  43.745906 -79.352188  \n",
       "8                      Woodbine Gardens,Parkview Hill  43.706397 -79.309937  \n",
       "9                             Ryerson,Garden District  43.657162 -79.378937  \n",
       "10                                          Glencairn  43.709577 -79.445073  \n",
       "11  Cloverdale,Islington,Martin Grove,Princess Gar...  43.650943 -79.554724  \n",
       "12                          Highland Creek,Rouge Hill  43.784535 -79.160497  "
      ]
     },
     "execution_count": 4,
     "metadata": {},
     "output_type": "execute_result"
    }
   ],
   "source": [
    "#it is handy to manually create a new dataframe after conmining posstal codes. and neighborhoods as required by the assignment\n",
    "neighborhoods_data=pd.DataFrame({'PostalCode':['M3A', 'M4A', 'M5A', 'M6A', 'M7A', 'M9A',\n",
    "                               'M1B', 'M3B', 'M4B', 'M5B', 'M6B', 'M9B', \n",
    "                               'M1C'],\n",
    "                 'Borough':['North York', 'North York', 'DownTown Toronto', \n",
    "                            'North York', \"Queen's Park\", 'Etobicoke', 'Scarborough',\n",
    "                           'North York', 'East York', 'DownTown Toronto', 'North York',\n",
    "                           'Etobicoke', 'Scarborough'],\n",
    "                 'Neighborhood':['Parkhoods', 'Victoria Village', 'Harbourfront,Regent Park',\n",
    "                                 'Lawrence Height,Lawrence Manor', \"Queen's Park\", 'Islington Avenue',\n",
    "                                'Rouge,Malvern', 'Don Hills North', 'Woodbine Gardens,Parkview Hill',\n",
    "                                'Ryerson,Garden District', 'Glencairn', \n",
    "                                 'Cloverdale,Islington,Martin Grove,Princess Gardens,West Dean Park',\n",
    "                                'Highland Creek,Rouge Hill'],\n",
    "                 'Latitude':[43.753259, 43.725882, 43.654260, 43.718518, 43.662301, 43.667856, 43.806686,\n",
    "                            43.745906, 43.706397, 43.657162, 43.709577, 43.650943, 43.784535],\n",
    "                 'Longitude':[-79.329656, -79.315572, -79.360639, -79.464763, -79.389494, -79.532242, -79.194353,\n",
    "                             -79.352188, -79.309937, -79.378937, -79.445073, -79.554724, -79.160497]}, columns=['PostalCode', 'Borough',\n",
    "                                                                                                               'Neighborhood', 'Latitude',\n",
    "                                                                                                               'Longitude'])\n",
    "\n",
    "neighborhoods_data"
   ]
  },
  {
   "cell_type": "markdown",
   "metadata": {},
   "source": [
    "Use geopy library to get the latitude and longitude values of Toronto City. In order to define an instance of the geocoder, it's required to define a user_agent, here named as toronto_explorer."
   ]
  },
  {
   "cell_type": "code",
   "execution_count": null,
   "metadata": {},
   "outputs": [],
   "source": [
    "#provide address name\n",
    "address='Toronto City, Toronto'\n",
    "\n",
    "geolocator=Nominatim(user_agent=\"toronto_explorer\")\n",
    "location=geolocator.geocode(address)\n",
    "latitude=location.latitude\n",
    "longitude=location.longitude\n",
    "\n",
    "print('The geographical coordinates of Toronto are {},{}.'.format(latitude, longitude))"
   ]
  },
  {
   "cell_type": "markdown",
   "metadata": {},
   "source": [
    "At this point we can start to utilize the Foursquare API to explore the neighborhoods and segment them"
   ]
  },
  {
   "cell_type": "code",
   "execution_count": null,
   "metadata": {},
   "outputs": [],
   "source": [
    "#Define Foursquare credentials and version\n",
    "CLIENT_ID='' #your foursquare ID\n",
    "CLIENT_SECRET='' #your foursquare secret\n",
    "VERSION='' #your foursquare API version\n",
    "\n",
    "print('Your credentials:')\n",
    "print('CLIENT_ID:' + CLIENT_ID)\n",
    "print('CLIENT_SECRET:' + CLIENT_SECRET)"
   ]
  },
  {
   "cell_type": "markdown",
   "metadata": {},
   "source": [
    "Time To Write The Code To Run The Above Function On Each Neighborhood And Create A New Dataframe Called toronto_venues"
   ]
  },
  {
   "cell_type": "code",
   "execution_count": null,
   "metadata": {},
   "outputs": [],
   "source": [
    "#Create a function to explore all neighborhoods in Toronto\n",
    "def getNearbyVenues(names, latitudes, longitudes, radius=5000, LIMIT=100):\n",
    "    venues_list=[]\n",
    "    for name, lat, lng, in zip(names, latitudes, longitudes):\n",
    "        print(name)\n",
    "        \n",
    "        #Create the API request URL\n",
    "        url='https://api.foursquare.com/v2/venues/explore?&client_id={}&client_secret={}&v={}&ll={},{}&radius={}&limit={}'.format(CLIENT_ID,\n",
    "                                                                                                                                 CLIENT_SECRET,\n",
    "                                                                                                                                 VERSION,\n",
    "                                                                                                                                 lat,\n",
    "                                                                                                                                 lng,\n",
    "                                                                                                                                 radius,\n",
    "                                                                                                                                 LIMIT)\n",
    "        #Make the GET request\n",
    "        results=requests.get(url).json()[\"response\"][\"groups\"][0]['items']\n",
    "        \n",
    "        #Returns only relevant information for each nearby venue\n",
    "        venues_list.append([(name,\n",
    "                           lat,\n",
    "                           lng,\n",
    "                           v['venue']['name'],  \n",
    "                           v['venue']['location']['lat'],\n",
    "                           v['venue']['location']['lng'],\n",
    "                           v['venue']['categories'][0]['name']) for v in results])\n",
    "        \n",
    "        nearby_venues=pd.DataFrame([item for venue_list in venues_list for item in venue_list])\n",
    "        nearby_venues.columns=['Borough',\n",
    "                              'Borough Latitude',\n",
    "                              'Borough Longitude',\n",
    "                              'Venue',\n",
    "                              'Venue Latitude',\n",
    "                              'Venue Longitude',\n",
    "                              'Venue Category']\n",
    "        return(nearby_venues)"
   ]
  },
  {
   "cell_type": "code",
   "execution_count": null,
   "metadata": {},
   "outputs": [],
   "source": [
    "#the code\n",
    "toronto_venues=getNearbyVenues(names=neighborhoods_data['Borough'],\n",
    "                              latitudes=neighborhoods_data['Latitude'],\n",
    "                              longitudes=neighborhoods_data['Longitude']\n",
    "                              )"
   ]
  },
  {
   "cell_type": "code",
   "execution_count": null,
   "metadata": {},
   "outputs": [],
   "source": [
    "#Check the size of the resulting dataframe\n",
    "print(toronto_venues.shape)\n",
    "toronto_venues.head()"
   ]
  },
  {
   "cell_type": "code",
   "execution_count": null,
   "metadata": {},
   "outputs": [],
   "source": [
    "#Check how many venues were returned for each neighborhood\n",
    "toronto_venues.groupby('Borough').count()"
   ]
  },
  {
   "cell_type": "code",
   "execution_count": null,
   "metadata": {},
   "outputs": [],
   "source": [
    "#Find out how many unique categories can be curated from all the returned venues\n",
    "print('There are {} uniques categories.'.format(len(toronto_venues['Venue Category'].unique())))"
   ]
  },
  {
   "cell_type": "markdown",
   "metadata": {},
   "source": [
    "Time To Analyze Each Neighborhood"
   ]
  },
  {
   "cell_type": "code",
   "execution_count": null,
   "metadata": {},
   "outputs": [],
   "source": [
    "#onehot encoding\n",
    "toronto_onehot=pd.get_dummies(toronto_venues[['Venue Category']], prefix=\"\", prefix_sep=\"\")\n",
    "\n",
    "#Add Neighborhood column back to dataframe\n",
    "toronto_onehot['Borough']=toronto_venues['Borough']\n",
    "\n",
    "#Move Neighborhood column to the first column\n",
    "fixed_columns=[toronto_onehot.columns[-1]] + list(toronto_onehot.columns[:-1])\n",
    "toronto_onehot=toronto_onehot[fixed_columns]\n",
    "\n",
    "toronto_onehot.head()"
   ]
  },
  {
   "cell_type": "code",
   "execution_count": null,
   "metadata": {},
   "outputs": [],
   "source": [
    "#Examine the new dataframe\n",
    "toronto_onehot.shape"
   ]
  },
  {
   "cell_type": "code",
   "execution_count": null,
   "metadata": {},
   "outputs": [],
   "source": [
    "#Group rows by neighborhood and by taking the mean of the frequency of occurrence of each category\n",
    "toronto_grouped=toronto_onehot.groupby('Borough').mean().reset_index()\n",
    "toronto_grouped"
   ]
  },
  {
   "cell_type": "code",
   "execution_count": null,
   "metadata": {},
   "outputs": [],
   "source": [
    "#Confirm the newsize\n",
    "toronto_grouped.shape"
   ]
  },
  {
   "cell_type": "code",
   "execution_count": null,
   "metadata": {},
   "outputs": [],
   "source": [
    "#Print each neighborhood along with the top 5 most common venues\n",
    "num_top_venues=10\n",
    "for northyork in toronto_grouped['Borough']:\n",
    "    print(\"----\"+northyork+\"----\")\n",
    "    temp=toronto_grouped[toronto_grouped['Borough']==northyork].T.reset_index()\n",
    "    temp.columns=['venue', 'freq']\n",
    "    temp=temp.iloc[1:]\n",
    "    temp['freq']=temp['freq'].astype(float)\n",
    "    temp=temp.round({'freq': 2})\n",
    "    print(temp.sort_values('freq', ascending=False).reset_index(drop=True).head(num_top_venues))\n",
    "    \n",
    "    print('\\n')"
   ]
  },
  {
   "cell_type": "markdown",
   "metadata": {},
   "source": [
    "Put The Above Into A Pandas Dataframe"
   ]
  },
  {
   "cell_type": "code",
   "execution_count": null,
   "metadata": {},
   "outputs": [],
   "source": [
    "#First, a function to sort the venues in descending order, before putting the above into a pandas dataframe\n",
    "def return_most_common_venues(row, num_top_venues):\n",
    "    row_categories=row.iloc[1:]\n",
    "    row_categories_sorted=row_categories.sort_values(ascending=False)\n",
    "    \n",
    "    return row_categories_sorted.index.values[0:num_top_venues]"
   ]
  },
  {
   "cell_type": "code",
   "execution_count": null,
   "metadata": {},
   "outputs": [],
   "source": [
    "#Create a new dataframe and display the top 10 venues for each neighborhood\n",
    "num_top_venues=10\n",
    "indicators=['st', 'nd', 'rd']\n",
    "\n",
    "#Create columns according to number of top venues\n",
    "columns=['Borough']\n",
    "for ind in np.arange(num_top_venues):\n",
    "    try:\n",
    "        columns.append('{}{} Most Common Venue'.format(ind+1, indicators[ind]))\n",
    "    except:\n",
    "        columns.append('{}th Most Common Venue'.format(ind+1))\n",
    "        \n",
    "#Create a new dataframe\n",
    "toronto_venues_sorted=pd.DataFrame(columns=columns)\n",
    "toronto_venues_sorted['Borough']=toronto_grouped['Borough']\n",
    "for ind in np.arange(toronto_grouped.shape[0]):\n",
    "    toronto_venues_sorted.iloc[ind,1:]=return_most_common_venues(toronto_grouped.iloc[ind,:], num_top_venues)\n",
    "toronto_venues_sorted.head()    "
   ]
  },
  {
   "cell_type": "markdown",
   "metadata": {},
   "source": [
    "Cluster The Neighborhoods"
   ]
  },
  {
   "cell_type": "code",
   "execution_count": null,
   "metadata": {},
   "outputs": [],
   "source": [
    "#Run k-means to cluster the neighborhoods into 5 clusters\n",
    "#Set number of clusters\n",
    "kclusters=5\n",
    "toronto_grouped_clustering=toronto_grouped.drop('Borough', 1)\n",
    "\n",
    "#Run k-means clustering\n",
    "kmeans=KMeans(n_clusters=kclusters, random_state=0).fit(toronto_grouped_clustering)\n",
    "\n",
    "#Check cluster labels generated for each row in the dataframe\n",
    "kmeans.labels_[0:10]"
   ]
  },
  {
   "cell_type": "markdown",
   "metadata": {},
   "source": [
    "Create a new DataFrame that includes the clusters as well as the top 10 venues for each Neighborhood"
   ]
  },
  {
   "cell_type": "code",
   "execution_count": null,
   "metadata": {},
   "outputs": [],
   "source": [
    "#Add clustering labels\n",
    "toronto_venues_sorted.insert(0, 'cluster Labels', kmeans.labels_)\n",
    "\n",
    "toronto_merged=neighborhoods_data\n",
    "\n",
    "#Merge toronto_grouped with neighborhoods_data to add latitude/longitude for each neighborhood\n",
    "toronto_merged=toronto_merged.join(toronto_venues_sorted.set_index('Borough'), on='Borough')\n",
    "\n",
    "toronto_merged.head() #check the last column!"
   ]
  },
  {
   "cell_type": "markdown",
   "metadata": {},
   "source": [
    "Finally, Visualize the Resulting Cluster:"
   ]
  },
  {
   "cell_type": "code",
   "execution_count": null,
   "metadata": {},
   "outputs": [],
   "source": [
    "#Create map\n",
    "clustersmap=folium.Map(location=[latitude, longitude], zoom_start=11)\n",
    "\n",
    "#Set color scheme for the clusters\n",
    "x=np.arange(kclusters)\n",
    "ys=[i + x +(i * x)**2 for i in range(kclusters)]\n",
    "colors_array=cm.rainbow(np.linespace(0, 1, len(ys)))\n",
    "rainbow=[colors.rgb2hex(i) for i in color_array]\n",
    "\n",
    "#Add markers to the map\n",
    "markers_colors=[]\n",
    "for lat, lon, poi, cluster in zip(toronto_merged['Latitude'], toronto_merged['Longitude'],\n",
    "                                 toronto_merged['Borough'], toronto_merged['Cluster Labels']):\n",
    "    label=folium.Popup(str(poi) + Cluster + str(cluster), parse_html=True)\n",
    "    folium.CircleMarker([lat, lon],\n",
    "                       radius=5,\n",
    "                       popup=label,\n",
    "                       color=rainbow[cluster -1],\n",
    "                       fill=True,\n",
    "                       fill_color=rainbow[cluster -1],\n",
    "                       fill_opacity=0.7).add_to(clustersmap)\n",
    "    clustersmap"
   ]
  }
 ],
 "metadata": {
  "kernelspec": {
   "display_name": "Python 3",
   "language": "python",
   "name": "python3"
  },
  "language_info": {
   "codemirror_mode": {
    "name": "ipython",
    "version": 3
   },
   "file_extension": ".py",
   "mimetype": "text/x-python",
   "name": "python",
   "nbconvert_exporter": "python",
   "pygments_lexer": "ipython3",
   "version": "3.6.8"
  }
 },
 "nbformat": 4,
 "nbformat_minor": 2
}
