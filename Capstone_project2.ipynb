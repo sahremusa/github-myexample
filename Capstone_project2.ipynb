{
 "cells": [
  {
   "cell_type": "markdown",
   "metadata": {
    "collapsed": true
   },
   "source": [
    "INTRODUCTION"
   ]
  },
  {
   "cell_type": "markdown",
   "metadata": {},
   "source": [
    "The Hague City in the Netherlands(South Holland) is the target city of this project. The project is about assessing the best location for food restuarant within the eight urban districts (Boroughs) comprising the Hague City - South Holland."
   ]
  },
  {
   "cell_type": "markdown",
   "metadata": {},
   "source": [
    "BACKGROUND"
   ]
  },
  {
   "cell_type": "markdown",
   "metadata": {},
   "source": [
    "A group of immigrants arrived from Asia and South America to seek asylum in the Netherlands and have been given a stay in the Hague City by the government of Netherlands and City Council of the Hague. These asylum seekers have made it known to the authorities that they will be better integrated into the Dutch society if they are provided opportunity to start and engage in food restuarant business, which they claimed to be their profession. However the Hague City, like other parts of the Netherlands, is already a scene of diverse type of restuarants everywhere.\n",
    "The City Council contracted me as a Data Scientist and Analyst to investigate the best possible locations for food restuarants, and provide them recomendations on possible locations in a presentation, the result of which will be used to determine whether or not council will provide financial assistance to these immigrants in order to start their food restuarant businesses of interest."
   ]
  },
  {
   "cell_type": "markdown",
   "metadata": {},
   "source": [
    "DESCRIPTION OF THE DATA AND HOW IT WILL BE USED TO SOLVE THE PROBLEM"
   ]
  },
  {
   "cell_type": "markdown",
   "metadata": {},
   "source": [
    "The Hague City is comprised of 8 districts, equivalent to Boroughs, and a total of 38 neighborhoods. The required dataset, in order to segment the neighborhoods and explore them, will consist of the 8 boroughs and the neighborhoods that exist in each of the boroughs(districts), and as well as the latitude and longitude coordinates of each neighborhood. This dataset is available on the following links: https://www.postcode.nl/services/adresdata/api for a yearly chargeable fee of 40 euro for 10,000 requests per year(exclusive value added tax). It is also available on: https://api.postcode.eu/nl/v1/addresses/latlon/{latitude}/{longitude}.\n",
    "Alternatively, also available on Foursquare, which i checked and seems to be so by indicating location name in a search box. Whichever means is used, the the dataset will be named haguecity_data.\n",
    "When this dataset is downloaded, it will be first opened using with open() function as a jason data and then explored. A list of the neighboods returned will be defined as a new variable that includes this data, the name of variable will be hgcneighborhoods_data, to extract the features. This will be followed by a transformation of the data into a pandas dataframe, a task essentially transforming this data of expected nested Python dictionaries into pandas dataframe. Fisrtly, dataframe columns will be defined, and then initialize the dataframe. This dataframe will be filled one row at a time by looping through the data.\n",
    "A geopy library will be used to get the latitude and longitude values of the Hague City following the normal procedure learned in the lessons. It is deemed necessary to create a map of the Hague City with the neighborhoods superimposed on top. However, I am skeptical about the use of folium to do this because it has never worked throughout the lab exercises provided using folium and creating choropleth maps. That's my serious concern, and was observed that other students experienced the same when I was grading peer review assignments very recently, especially for one of the best students with very strong python programming background.\n",
    "The foursquare API will be used to explore the neighborhoods and segment them for the top 100 venues, following procedures already learned in the courses. The get_category_type function will be used to extract the categories of the venues. The json will be cleaned and structured into a pandas dataframe.\n",
    "The next step will be to explore neighborhoods in the Hague City by first creating a function that will repeat the process of exploration for all neighborhoods in the Hague City. A code will be written to run this function on each neighborhood and create a new dataframe called haguecity_venues.\n",
    "This will be the time to analyze each neighborhood, first using the onehot encoding to allow the use of k-means later for clustering. The new dataframe will be examined and rows be grouped by neighborhoods, and each neighborhood to be printed along with top 5 most common venues, and then put into a pandas dataframe by creating a function to sort venues in descending order. After creating the new dataframe, the top 10 venues will be displayed for each neighborhood.\n",
    "The neighborhoods will then be clustered by run k-means to create, say, 5 clusters. This will lead to creating a new dataframe that includes the clusters as well as the top 10 venues for each neighborhood, likely to be visualized if my experience with folium does not repeat itself.\n",
    "Finally, the clusters will be examined to determine the discriminating venue categories that distinguish each cluster. This will aid to assign a name to each cluster and for recommendation to the council during the presentation."
   ]
  },
  {
   "cell_type": "code",
   "execution_count": null,
   "metadata": {},
   "outputs": [],
   "source": []
  },
  {
   "cell_type": "code",
   "execution_count": null,
   "metadata": {},
   "outputs": [],
   "source": []
  },
  {
   "cell_type": "code",
   "execution_count": null,
   "metadata": {},
   "outputs": [],
   "source": []
  },
  {
   "cell_type": "code",
   "execution_count": null,
   "metadata": {},
   "outputs": [],
   "source": []
  }
 ],
 "metadata": {
  "kernelspec": {
   "display_name": "Python 3.5",
   "language": "python",
   "name": "python3"
  },
  "language_info": {
   "codemirror_mode": {
    "name": "ipython",
    "version": 3
   },
   "file_extension": ".py",
   "mimetype": "text/x-python",
   "name": "python",
   "nbconvert_exporter": "python",
   "pygments_lexer": "ipython3",
   "version": "3.5.5"
  }
 },
 "nbformat": 4,
 "nbformat_minor": 1
}
